{
 "cells": [
  {
   "cell_type": "markdown",
   "metadata": {
    "collapsed": true,
    "pycharm": {
     "name": "#%% md\n"
    }
   },
   "source": [
    "# Week 1 Homework: Adding two syslog parsing modules\n",
    "For this week's homework two modules were created the first will parse the log file and extract the klogind failure messages and print the IP Addresses. The second module extracts the ssh users authenticated via ssh.\n",
    "\n"
   ]
  },
  {
   "cell_type": "code",
   "execution_count": 17,
   "outputs": [
    {
     "data": {
      "text/plain": "<module 'syslogSSHAuthenticate' from 'C:\\\\Users\\\\ecraw\\\\PycharmProjects\\\\SYS320-Automation-And-Scipting\\\\SYS320-SP22\\\\Week01\\\\homework\\\\syslogSSHAuthenticate.py'>"
     },
     "execution_count": 17,
     "metadata": {},
     "output_type": "execute_result"
    }
   ],
   "source": [
    "import syslogklogindFailure, importlib, syslogSSHAuthenticate\n",
    "importlib.reload(syslogklogindFailure)\n",
    "importlib.reload(syslogSSHAuthenticate)"
   ],
   "metadata": {
    "collapsed": false,
    "pycharm": {
     "name": "#%%\n"
    }
   }
  },
  {
   "cell_type": "markdown",
   "source": [
    "### klogind failure message\n",
    "This module searches through the log file and prints out the coresponding ip address from klogind failure."
   ],
   "metadata": {
    "collapsed": false,
    "pycharm": {
     "name": "#%% md\n"
    }
   }
  },
  {
   "cell_type": "code",
   "execution_count": 18,
   "outputs": [
    {
     "name": "stdout",
     "output_type": "stream",
     "text": [
      "163.27.187.39\n"
     ]
    }
   ],
   "source": [
    "syslogklogindFailure.auth_fail('../../logs/Linux_2k.log',['klogind.*Authentication failed from.*'])"
   ],
   "metadata": {
    "collapsed": false,
    "pycharm": {
     "name": "#%%\n"
    }
   }
  },
  {
   "cell_type": "markdown",
   "source": [
    "### SSH Users that authenticated\n",
    "This module searches through the log file and prints the users who have opened an ssh session."
   ],
   "metadata": {
    "collapsed": false,
    "pycharm": {
     "name": "#%% md\n"
    }
   }
  },
  {
   "cell_type": "code",
   "execution_count": 21,
   "outputs": [
    {
     "name": "stdout",
     "output_type": "stream",
     "text": [
      "news\n",
      "cyrus\n",
      "test\n",
      "root\n"
     ]
    }
   ],
   "source": [
    "syslogSSHAuthenticate.session_opened('../../logs/Linux_2k.log',['session opened for user.*'])"
   ],
   "metadata": {
    "collapsed": false,
    "pycharm": {
     "name": "#%%\n"
    }
   }
  },
  {
   "cell_type": "markdown",
   "source": [
    "### Answers to questions asked in homework\n",
    "\n",
    "3. What is your interpretation of the users that authenticated to SSH based on the usernames?  The context is that you are a security analyst and checking your log files for anomalies.\n",
    "\n",
    "\n",
    "    My interpretation of users authenticated to SSH based on usernames would be users who have successfully logged into a system. As a security analyst I would be checking for any root user logins, as that could be malicious depending on if the person who signed in was allowed to use the account. Also, if I had a module that would look for failed SSH logins I would verify that there were not an unusual amount of failed logins before a successful login as that could indicate a successful brute force attack.\n",
    "###\n",
    "4. What did you like the most and least about the lab?\n",
    "\n",
    "    My favorite part was creating the different modules because it was very simple and I liked having easy to use modules that can be built on with other modules. My least favorite part would probably be troubleshooting the bugs as sometimes I would fix the issue but forget to re-run the reload command or something small.\n",
    "###\n",
    "5. What additional questions do you have?\n",
    "\n",
    "    I don't have nay questions on material right now, everything made sense to me."
   ],
   "metadata": {
    "collapsed": false,
    "pycharm": {
     "name": "#%% md\n"
    }
   }
  },
  {
   "cell_type": "code",
   "execution_count": null,
   "outputs": [],
   "source": [],
   "metadata": {
    "collapsed": false,
    "pycharm": {
     "name": "#%%\n"
    }
   }
  }
 ],
 "metadata": {
  "kernelspec": {
   "display_name": "Python 3",
   "language": "python",
   "name": "python3"
  },
  "language_info": {
   "codemirror_mode": {
    "name": "ipython",
    "version": 2
   },
   "file_extension": ".py",
   "mimetype": "text/x-python",
   "name": "python",
   "nbconvert_exporter": "python",
   "pygments_lexer": "ipython2",
   "version": "2.7.6"
  }
 },
 "nbformat": 4,
 "nbformat_minor": 0
}