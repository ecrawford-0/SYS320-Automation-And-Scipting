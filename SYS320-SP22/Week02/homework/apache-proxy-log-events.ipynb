{
 "cells": [
  {
   "cell_type": "code",
   "execution_count": 57,
   "outputs": [
    {
     "data": {
      "text/plain": "<module 'ProxyLog' from 'C:\\\\Users\\\\ecraw\\\\PycharmProjects\\\\SYS320-Automation-And-Scipting\\\\SYS320-SP22\\\\Week02\\\\homework\\\\ProxyLog.py'>"
     },
     "execution_count": 57,
     "metadata": {},
     "output_type": "execute_result"
    }
   ],
   "source": [
    "import ProxyLog\n",
    "import importlib\n",
    "importlib.reload(ProxyLog)"
   ],
   "metadata": {
    "collapsed": false,
    "pycharm": {
     "name": "#%%\n"
    }
   }
  },
  {
   "cell_type": "markdown",
   "source": [
    "## Week 2 Homework: Apache Log parsing and YAML\n",
    "For this week 2 modules were created to parse through proxy log files and print out instances of files that start with \"QQ\"."
   ],
   "metadata": {
    "collapsed": false
   }
  },
  {
   "cell_type": "markdown",
   "metadata": {
    "collapsed": true,
    "pycharm": {
     "name": "#%% md\n"
    }
   },
   "source": [
    "### Proxy open for QQ\n",
    "This module searches through the logs and finds instance where files beginning in \"QQ\" open a proxy connection. The output first prints the file name, then prints the remote host, and then finally prints the proxy host."
   ]
  },
  {
   "cell_type": "code",
   "execution_count": 58,
   "outputs": [
    {
     "name": "stdout",
     "output_type": "stream",
     "text": [
      "QQPlayer.exe btrace.qq.com:80 proxy.cse.cuhk.edu.hk:5070\n",
      "QQ.exe 183.60.49.182:443 proxy.cse.cuhk.edu.hk:5070\n",
      "QQProtectUpd.exe qdun-data.qq.com:443 proxy.cse.cuhk.edu.hk:5070\n",
      "QQ.exe tcpconn3.tencent.com:443 proxy.cse.cuhk.edu.hk:5070\n",
      "QQ.exe tcpconn.tencent.com:80 proxy.cse.cuhk.edu.hk:5070\n",
      "QQ.exe cgi.qqweb.qq.com:80 proxy.cse.cuhk.edu.hk:5070\n",
      "QQ.exe tcpconn6.tencent.com:80 proxy.cse.cuhk.edu.hk:5070\n",
      "QQ.exe tcpconn6.tencent.com:443 proxy.cse.cuhk.edu.hk:5070\n"
     ]
    }
   ],
   "source": [
    "ProxyLog.proxy_open('../../logs/Proxifier_2K.log', 'proxy','open')"
   ],
   "metadata": {
    "collapsed": false,
    "pycharm": {
     "name": "#%%\n"
    }
   }
  },
  {
   "cell_type": "markdown",
   "source": [
    "### Bytes sent and received for QQ\n",
    "This module searches through the logs and finds instances where there are bytes being sent/received and prints out the file name, then prints the remote host, next prints out the bytes received, and finally prints the bytes received."
   ],
   "metadata": {
    "collapsed": false
   }
  },
  {
   "cell_type": "code",
   "execution_count": 59,
   "outputs": [
    {
     "name": "stdout",
     "output_type": "stream",
     "text": [
      "QQ.exe tcpconn3.tencent.com:443 149 bytes sent 121 bytes recevied \n",
      "QQ.exe tcpconn.tencent.com:80 133 bytes sent 0 bytes recevied \n",
      "QQProtectUpd.exe qdun-data.qq.com:443 261 bytes sent 70 bytes recevied \n",
      "QQ.exe qqmail.tencent.com:80 336 bytes sent 2854 bytes recevied \n",
      "QQ.exe cgi.qqweb.qq.com:80 477 bytes sent 448 bytes recevied \n",
      "QQ.exe tcpconn6.tencent.com:80 0 bytes sent 0 bytes recevied \n",
      "QQ.exe tcpconn6.tencent.com:443 0 bytes sent 0 bytes recevied \n",
      "QQ.exe tcpconn3.tencent.com:80 0 bytes sent 0 bytes recevied \n",
      "QQ.exe 2052.flash2-http.qq.com:80 466 bytes sent 125682 bytes recevied \n",
      "QQ.exe showxml.qq.com:80 600 bytes sent 1716 bytes recevied \n"
     ]
    }
   ],
   "source": [
    "ProxyLog.bytes_sent('../../logs/Proxifier_2K.log', 'proxy','sent')"
   ],
   "metadata": {
    "collapsed": false,
    "pycharm": {
     "name": "#%%\n"
    }
   }
  },
  {
   "cell_type": "markdown",
   "source": [
    "## Response to the following (can be in video, written in the text entry, or some folks wrote it in their Markdown cell.\n",
    "\n",
    "### 1. What is your interpretation of the results that you discovered (Did the files match known threat intell information?  Was there activity to and from the same remote host?)\n",
    "\n",
    "I checked online and it does seem there is definitely something anonymous going on with these logs. Most connections went tencent.com, and there is some online information from Sophos that flags tencent QQ as malicious under the category viruses and spyware. https://www.sophos.com/en-us/threat-center/threat-analyses/viruses-and-spyware/Tencent%20QQ\n",
    "\n",
    "### 2. What did you like the most and least about this assignment? NOTE: These help me understand how to improve on assignments and know what is working.)\n",
    "\n",
    "My favorite part of the lab was using the yaml files, I used them for other classes but it was really neat using them in this context for searching words. I think my least favorite part of the lab was trying to format the output how I wanted as well as some bug fixing, which were always caused from extra spaces in the yaml file or typos.\n",
    "### 3. What additional questions do you have about this week's material?\n",
    "\n",
    "I guess one question I have is how come yaml files in particular were used for this activity? I did like using them though."
   ],
   "metadata": {
    "collapsed": false
   }
  },
  {
   "cell_type": "code",
   "execution_count": null,
   "outputs": [],
   "source": [],
   "metadata": {
    "collapsed": false,
    "pycharm": {
     "name": "#%%\n"
    }
   }
  }
 ],
 "metadata": {
  "kernelspec": {
   "display_name": "Python 3",
   "language": "python",
   "name": "python3"
  },
  "language_info": {
   "codemirror_mode": {
    "name": "ipython",
    "version": 2
   },
   "file_extension": ".py",
   "mimetype": "text/x-python",
   "name": "python",
   "nbconvert_exporter": "python",
   "pygments_lexer": "ipython2",
   "version": "2.7.6"
  }
 },
 "nbformat": 4,
 "nbformat_minor": 0
}