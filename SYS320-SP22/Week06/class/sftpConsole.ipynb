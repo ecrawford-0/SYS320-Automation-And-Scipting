{
 "cells": [
  {
   "cell_type": "code",
   "execution_count": 1,
   "metadata": {
    "collapsed": true
   },
   "outputs": [],
   "source": [
    "import paramiko\n",
    "from getpass import getpass\n",
    "\n",
    "# create the password prompt\n",
    "thePass = getpass(prompt=\"Please enter your SSH password\")\n",
    "\n",
    "# Host information\n",
    "host = \"192.168.1.17\"\n",
    "port = 22\n",
    "username = \"emily\"\n",
    "password = thePass\n",
    "\n",
    "try :\n",
    "    ssh = paramiko.SSHClient()\n",
    "    ssh.set_missing_host_key_policy(paramiko.AutoAddPolicy())\n",
    "    ssh.connect(host,port,username,password)\n",
    "except paramiko.AuthenticationException:\n",
    "    print (\"Authentication failed\")"
   ]
  },
  {
   "cell_type": "code",
   "execution_count": null,
   "outputs": [],
   "source": [
    "# start SFTP session\n",
    "sftp = ssh.open_sftp()\n",
    "\n",
    "# List of files to download\n",
    "files = ['/etc/hosts', '/etc/passwd', '/var/log/auth.log']\n",
    "\n",
    "# Loop through the files and download them\n",
    "for eachFile in files:\n",
    "\n",
    "    # Create a list from the filename\n",
    "    x = eachFile.split(\"/\")\n",
    "\n",
    "    #print(x)\n",
    "\n",
    "    # -1 is used to pluck the last element in a list.\n",
    "    filename = x[-1]\n",
    "    #print(filename)\n",
    "    # Local path to store files\n",
    "    local_path = \"remote_files/\" + filename\n",
    "\n",
    "    sftp.get(eachFile,local_path)\n",
    "\n",
    "ssh.close()"
   ],
   "metadata": {
    "collapsed": false,
    "pycharm": {
     "name": "#%%\n",
     "is_executing": true
    }
   }
  },
  {
   "cell_type": "code",
   "execution_count": null,
   "outputs": [],
   "source": [],
   "metadata": {
    "collapsed": false,
    "pycharm": {
     "name": "#%%\n"
    }
   }
  }
 ],
 "metadata": {
  "kernelspec": {
   "display_name": "Python 3",
   "language": "python",
   "name": "python3"
  },
  "language_info": {
   "codemirror_mode": {
    "name": "ipython",
    "version": 2
   },
   "file_extension": ".py",
   "mimetype": "text/x-python",
   "name": "python",
   "nbconvert_exporter": "python",
   "pygments_lexer": "ipython2",
   "version": "2.7.6"
  }
 },
 "nbformat": 4,
 "nbformat_minor": 0
}