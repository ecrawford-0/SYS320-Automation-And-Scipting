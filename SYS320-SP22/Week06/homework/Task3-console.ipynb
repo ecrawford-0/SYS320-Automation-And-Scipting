{
 "cells": [
  {
   "cell_type": "code",
   "execution_count": 19,
   "metadata": {
    "collapsed": true
   },
   "outputs": [],
   "source": [
    "import paramiko\n",
    "from getpass import getpass\n",
    "import os\n",
    "\n",
    "# Check to see if bodyFileResults.txt file exists\n",
    "if os.path.exists('bodyFileResults.txt'):\n",
    "    # If so ask user to delete file\n",
    "    user_input = input(\"That file exists do you want to delete the file?(Y/N)\")\n",
    "\n",
    "    # If yes delete the file\n",
    "    if user_input == \"Y\":\n",
    "        os.remove('bodyFileResults.txt')\n",
    "\n",
    "# create the password prompt\n",
    "thePass = getpass(prompt=\"Please enter your SSH password\")\n",
    "\n",
    "# Host information\n",
    "host = \"192.168.1.17\"\n",
    "port = 22\n",
    "username = \"emily\"\n",
    "password = thePass\n",
    "\n",
    "# try connecting via ssh using paramiko\n",
    "try :\n",
    "    ssh = paramiko.SSHClient()\n",
    "    ssh.set_missing_host_key_policy(paramiko.AutoAddPolicy())\n",
    "    ssh.connect(host,port,username,password)\n",
    "# if fails from authentication error print that it failed due to authentication failure\n",
    "except paramiko.AuthenticationException:\n",
    "    print (\"Authentication failed\")"
   ]
  },
  {
   "cell_type": "code",
   "execution_count": 20,
   "outputs": [],
   "source": [
    "# start SFTP session\n",
    "sftp = ssh.open_sftp()\n",
    "\n",
    "# the local file on the system to upload\n",
    "localFile = \"fs.py\"\n",
    "# the remote path to upload the file to\n",
    "remotePath = \"/home/emily/fs.py\"\n",
    "\n",
    "# push the file to the linux server in the correct path\n",
    "sftp.put(localFile, remotePath)\n",
    "\n",
    "# Run the file that was pushed\n",
    "command = \"python3 fs.py -d /usr/bin\"\n",
    "\n",
    "# Get the output from the command\n",
    "stdin, stdout, stderr = ssh.exec_command(command)\n",
    "\n",
    "# Get results from stout\n",
    "lines = stdout.readlines()\n",
    "\n",
    "# Convert the list to a string\n",
    "output = ''.join(lines)\n",
    "# Header output\n",
    "sepHeader = '' + '### BEGIN ' + command + ' ###\\n\\n'\n",
    "# Footer\n",
    "sepFooter = '' + '### END ' + command  + ' ###\\n\\n'\n",
    "# Concatenates the header, command, footer\n",
    "cmd_output = sepHeader + output + sepFooter\n",
    "\n",
    "# save the cmd_output to a file\n",
    "with open('bodyFileResults.txt', 'a') as f:\n",
    "    f.write(cmd_output)\n"
   ],
   "metadata": {
    "collapsed": false,
    "pycharm": {
     "name": "#%%\n"
    }
   }
  },
  {
   "cell_type": "code",
   "execution_count": 21,
   "outputs": [],
   "source": [
    "# close the ssh session\n",
    "ssh.close()"
   ],
   "metadata": {
    "collapsed": false,
    "pycharm": {
     "name": "#%%\n"
    }
   }
  }
 ],
 "metadata": {
  "kernelspec": {
   "display_name": "Python 3",
   "language": "python",
   "name": "python3"
  },
  "language_info": {
   "codemirror_mode": {
    "name": "ipython",
    "version": 2
   },
   "file_extension": ".py",
   "mimetype": "text/x-python",
   "name": "python",
   "nbconvert_exporter": "python",
   "pygments_lexer": "ipython2",
   "version": "2.7.6"
  }
 },
 "nbformat": 4,
 "nbformat_minor": 0
}