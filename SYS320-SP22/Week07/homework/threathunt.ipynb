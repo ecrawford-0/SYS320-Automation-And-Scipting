{
 "cells": [
  {
   "cell_type": "markdown",
   "source": [
    "## Setup the ssh connection to the remote server"
   ],
   "metadata": {
    "collapsed": false
   }
  },
  {
   "cell_type": "code",
   "execution_count": 71,
   "metadata": {
    "collapsed": true
   },
   "outputs": [],
   "source": [
    "import paramiko\n",
    "from getpass import getpass\n",
    "import os\n",
    "\n",
    "\n",
    "# Check to see if result text files exists\n",
    "rootdir = 'remote_files'\n",
    "fList = []\n",
    "# Crawl through the provided directory\n",
    "for root, subfolders, filenames in os.walk(rootdir):\n",
    "    for f in filenames:\n",
    "        fileList = root + \"/\" + f\n",
    "        fList.append(fileList)\n",
    "\n",
    "# Check to see if ssh_results file exists\n",
    "for eachFile in fList:\n",
    "    if os.path.exists(eachFile):\n",
    "        # If so ask user to delete file\n",
    "        user_input = input(\"The file: \"+ eachFile + \" exists do you want to delete the file?(Y/N)\")\n",
    "\n",
    "        # If yes delete the file\n",
    "        if user_input == \"Y\":\n",
    "            os.remove(eachFile)\n",
    "\n",
    "\n",
    "# create the password prompt\n",
    "thePass = getpass(prompt=\"Please enter your SSH password\")\n",
    "\n",
    "# Host information\n",
    "host = \"192.168.6.71\"\n",
    "port = 2222\n",
    "username = \"emily.crawford\"\n",
    "password = thePass\n",
    "\n",
    "# try connecting via ssh using paramiko\n",
    "try :\n",
    "    ssh = paramiko.SSHClient()\n",
    "    ssh.set_missing_host_key_policy(paramiko.AutoAddPolicy())\n",
    "    ssh.connect(host,port,username,password)\n",
    "# if fails from authentication error print that it failed due to authentication failure\n",
    "except paramiko.AuthenticationException:\n",
    "    print (\"Authentication failed\")"
   ]
  },
  {
   "cell_type": "markdown",
   "source": [
    "## This is a function for running a list of commands and then saving them to a designated output file If the sudo command is used then the password will need to be provided.\n"
   ],
   "metadata": {
    "collapsed": false
   }
  },
  {
   "cell_type": "code",
   "execution_count": null,
   "outputs": [],
   "source": [
    "def runListOfCommands(commandsLists,password,outputFile):\n",
    "\n",
    "    for eachCMD in commandsLists:\n",
    "\n",
    "        # Get the output from the command\n",
    "        stdin, stdout, stderr = ssh.exec_command(eachCMD)\n",
    "\n",
    "        # input password for running sudo command\n",
    "        stdin.write(password + \"\\n\")\n",
    "\n",
    "        # Get results from stout\n",
    "        lines = stdout.readlines()\n",
    "\n",
    "        # Convert the list to a string\n",
    "        output = ''.join(lines)\n",
    "\n",
    "        # Header output\n",
    "        sepHeader = '' + '### BEGIN ' + eachCMD + ' ###\\n\\n'\n",
    "\n",
    "        # Footer\n",
    "        sepFooter = '' + '### END ' + eachCMD  + ' ###\\n\\n'\n",
    "\n",
    "        # Concatenates the header, command, footer\n",
    "        cmd_output = sepHeader + output + sepFooter\n",
    "\n",
    "        # save the cmd_output to a file\n",
    "        with open(outputFile, 'a') as f:\n",
    "            f.write(cmd_output)\n",
    "        # print the results out to the console as well\n",
    "        print(cmd_output)"
   ],
   "metadata": {
    "collapsed": false,
    "pycharm": {
     "name": "#%%\n"
    }
   }
  },
  {
   "cell_type": "markdown",
   "source": [
    "## This function is for downloading remote files to the local system"
   ],
   "metadata": {
    "collapsed": false,
    "pycharm": {
     "name": "#%% md\n"
    }
   }
  },
  {
   "cell_type": "code",
   "execution_count": null,
   "outputs": [],
   "source": [
    "def downloadFiles (files,download_dir):\n",
    "    # Loop through the files and download them\n",
    "    for eachFile in files:\n",
    "\n",
    "        # Create a list from the filename\n",
    "        x = eachFile.split(\"/\")\n",
    "\n",
    "        # -1 is used to pluck the last element in a list.\n",
    "        filename = x[-1]\n",
    "\n",
    "        # Local path to store files\n",
    "        local_path = str(download_dir) +  \"/\" +str(filename)\n",
    "\n",
    "        # get the file\n",
    "        sftp.get(eachFile,local_path)\n"
   ],
   "metadata": {
    "collapsed": false,
    "pycharm": {
     "name": "#%%\n"
    }
   }
  },
  {
   "cell_type": "markdown",
   "source": [
    "## For task 2: upload the Kraken binary and run it against /usr/bin/, /usr/sbin, /usr/local/bin, and /usr/local/sbin"
   ],
   "metadata": {
    "collapsed": false,
    "pycharm": {
     "name": "#%% md\n"
    }
   }
  },
  {
   "cell_type": "code",
   "execution_count": 73,
   "outputs": [
    {
     "name": "stdout",
     "output_type": "stream",
     "text": [
      "### BEGIN dir ###\n",
      "\n",
      "auth.log  kraken  ps-aux-results.txt\n",
      "### END dir ###\n",
      "\n",
      "\n",
      "Errors found\n",
      "[sudo] password for emily.crawford: \n",
      "### BEGIN sudo -S chmod +x kraken ###\n",
      "\n",
      "### END sudo -S chmod +x kraken ###\n",
      "\n",
      "\n",
      "Errors found\n",
      "[sudo] password for emily.crawford: \n",
      "### BEGIN sudo -S /home/emily.crawford/kraken --folder /usr/bin --folder  --folder /usr/sbin/   --folder /usr/local/bin  --folder /sbin  --folder /usr/local/sbin  --folder /bin ###\n",
      "\n",
      "\u001B[36mINFO\u001B[0m[0000] Looking for configuration file with name config.yaml \n",
      "\u001B[36mINFO\u001B[0m[0000] No configuration file found, generating a default one... \n",
      "\u001B[36mINFO\u001B[0m[0000] Loading Yara rules...                        \n",
      "\u001B[36mINFO\u001B[0m[0000] Scanning running processes...                \n",
      "\u001B[33mWARN\u001B[0m[0004] DETECTION! Malicious process detected as foundGoBinary  \u001B[33mpid\u001B[0m=3138 \u001B[33mprocess\u001B[0m=ls\n",
      "\u001B[33mWARN\u001B[0m[0005] DETECTION! Malicious process detected as foundGoBinary  \u001B[33mpid\u001B[0m=25680 \u001B[33mprocess\u001B[0m=snapd\n",
      "\u001B[36mINFO\u001B[0m[0018] Scanning autoruns...                         \n",
      "\u001B[33mWARN\u001B[0m[0019] DETECTION! Malicious autorun detected as foundGoBinary  \u001B[33mimage_path\u001B[0m=/usr/bin/snap \u001B[33mtype\u001B[0m=systemd\n",
      "\u001B[33mWARN\u001B[0m[0019] DETECTION! Malicious autorun detected as foundGoBinary  \u001B[33mimage_path\u001B[0m=/usr/bin/snap \u001B[33mtype\u001B[0m=systemd\n",
      "\u001B[36mINFO\u001B[0m[0020] Scanning the filesystem (this can take several minutes)... \n",
      "\u001B[31mERRO\u001B[0m[0020] Some malicious artifacts have been detected on this system: \n",
      "\u001B[31mERRO\u001B[0m[0020] Found detection for foundGoBinary            \n",
      "\u001B[31mERRO\u001B[0m[0020] Found detection for foundGoBinary            \n",
      "\u001B[31mERRO\u001B[0m[0020] Found detection for foundGoBinary            \n",
      "\u001B[31mERRO\u001B[0m[0020] Found detection for foundGoBinary            \n",
      "### END sudo -S /home/emily.crawford/kraken --folder /usr/bin --folder  --folder /usr/sbin/   --folder /usr/local/bin  --folder /sbin  --folder /usr/local/sbin  --folder /bin ###\n",
      "\n",
      "\n"
     ]
    }
   ],
   "source": [
    "# start SFTP session\n",
    "sftp = ssh.open_sftp()\n",
    "\n",
    "# the local file on the system to upload\n",
    "localFile = \"kraken\"\n",
    "# the remote path to upload the file to\n",
    "remotePath = \"/home/emily.crawford/kraken\"\n",
    "\n",
    "# push the file to the linux server in the correct path\n",
    "sftp.put(localFile, remotePath)\n",
    "\n",
    "# Run a list of commands, these will give the kraken binary executable permissions\n",
    "command = ['sudo -S chmod +x kraken','sudo -S /home/emily.crawford/kraken --folder /usr/bin --folder  --folder /usr/sbin/   --folder /usr/local/bin  --folder /sbin  --folder /usr/local/sbin  --folder /bin']\n",
    "\n",
    "# file to save the output in\n",
    "output = \"results/kraken-results.txt\"\n",
    "\n",
    "# Run all the commands, and save the result to the directory results as well as printing them out\n",
    "runListOfCommands(command,thePass,output)"
   ],
   "metadata": {
    "collapsed": false,
    "pycharm": {
     "name": "#%%\n"
    }
   }
  },
  {
   "cell_type": "markdown",
   "source": [
    "## Task 3 look for any malicious process IDs that were running as found by kraken"
   ],
   "metadata": {
    "collapsed": false
   }
  },
  {
   "cell_type": "code",
   "execution_count": 51,
   "outputs": [
    {
     "name": "stdout",
     "output_type": "stream",
     "text": [
      "### BEGIN sudo -S lsof -p3138 ###\n",
      "\n",
      "COMMAND  PID     USER   FD      TYPE DEVICE SIZE/OFF   NODE NAME\n",
      "ls      3138 p.dalton  cwd       DIR    8,1     4096 258130 /home/p.dalton/test-lk\n",
      "ls      3138 p.dalton  rtd       DIR    8,1     4096      2 /\n",
      "ls      3138 p.dalton  txt       REG    8,1  6597697 258133 /usr/local/bin/ls\n",
      "ls      3138 p.dalton  DEL       REG    8,1            3453 /usr/lib/x86_64-linux-gnu/libc-2.31.so\n",
      "ls      3138 p.dalton  DEL       REG    8,1            3466 /usr/lib/x86_64-linux-gnu/libpthread-2.31.so\n",
      "ls      3138 p.dalton  DEL       REG    8,1            3449 /usr/lib/x86_64-linux-gnu/ld-2.31.so\n",
      "ls      3138 p.dalton    0r      CHR    1,3      0t0      6 /dev/null\n",
      "ls      3138 p.dalton    1w      REG    8,1       85 258135 /home/p.dalton/test-lk/.d.log\n",
      "ls      3138 p.dalton    2w      REG    8,1       85 258135 /home/p.dalton/test-lk/.d.log\n",
      "ls      3138 p.dalton    3r      CHR    1,3      0t0      6 /dev/null\n",
      "ls      3138 p.dalton    4u      REG    8,1        4 258134 /home/p.dalton/test-lk/d.pid\n",
      "ls      3138 p.dalton    5u     IPv6  33422      0t0    TCP *:http-alt (LISTEN)\n",
      "ls      3138 p.dalton    7u  a_inode   0,14        0  10376 [eventpoll]\n",
      "ls      3138 p.dalton    8r     FIFO   0,13      0t0  33424 pipe\n",
      "ls      3138 p.dalton    9w     FIFO   0,13      0t0  33424 pipe\n",
      "### END sudo -S lsof -p3138 ###\n",
      "\n",
      "\n"
     ]
    }
   ],
   "source": [
    "# suspicious pid to investigate\n",
    "pid = 3138\n",
    "\n",
    "# command to run\n",
    "command = \"sudo -S lsof -p\" + str(pid)\n",
    "\n",
    "# file to save the output in\n",
    "output = \"results/lsof-pid-results.txt\"\n",
    "\n",
    "runListOfCommands(command,thePass,output)"
   ],
   "metadata": {
    "collapsed": false,
    "pycharm": {
     "name": "#%%\n"
    }
   }
  },
  {
   "cell_type": "markdown",
   "source": [
    "## Task 4: Download any suspicious files, binaries, or log files"
   ],
   "metadata": {
    "collapsed": false
   }
  },
  {
   "cell_type": "code",
   "execution_count": 52,
   "outputs": [],
   "source": [
    "# start SFTP session\n",
    "sftp = ssh.open_sftp()\n",
    "\n",
    "# List of files to download\n",
    "files = ['/home/p.dalton/test-lk/.d.log', '/home/p.dalton/test-lk/d.pid']\n",
    "\n",
    "# directory to download the remote files to\n",
    "downloadDir = \"remote_files\"\n",
    "\n",
    "# download the files\n",
    "downloadFiles(files,downloadDir)"
   ],
   "metadata": {
    "collapsed": false,
    "pycharm": {
     "name": "#%%\n"
    }
   }
  },
  {
   "cell_type": "markdown",
   "source": [
    "## Task 5: Check running processes, /etc/passwd, and /var/log/auth.log"
   ],
   "metadata": {
    "collapsed": false,
    "pycharm": {
     "name": "#%% md\n"
    }
   }
  },
  {
   "cell_type": "code",
   "execution_count": 68,
   "outputs": [
    {
     "name": "stdout",
     "output_type": "stream",
     "text": [
      "Errors found\n",
      "[sudo] password for emily.crawford: \n",
      "### BEGIN sudo -S ps aux > /home/emily.crawford/ps-aux-results.txt ###\n",
      "\n",
      "### END sudo -S ps aux > /home/emily.crawford/ps-aux-results.txt ###\n",
      "\n",
      "\n",
      "Errors found\n",
      "[sudo] password for emily.crawford: \n",
      "### BEGIN sudo -S cp /var/log/auth.log . ###\n",
      "\n",
      "### END sudo -S cp /var/log/auth.log . ###\n",
      "\n",
      "\n",
      "Errors found\n",
      "[sudo] password for emily.crawford: \n",
      "### BEGIN sudo -S chmod +r auth.log ###\n",
      "\n",
      "### END sudo -S chmod +r auth.log ###\n",
      "\n",
      "\n"
     ]
    }
   ],
   "source": [
    "\n",
    "# Check running processes\n",
    "command = ['sudo -S ps aux > /home/emily.crawford/ps-aux-results.txt','sudo -S cp /var/log/auth.log .', 'sudo -S chmod +r auth.log']\n",
    "\n",
    "output = \"results/check_processes_and_etc_passwd_and_var_log_auth.txt\"\n",
    "\n",
    "# run the commands\n",
    "runListOfCommands(command,thePass,output)\n",
    "\n",
    "# start SFTP session\n",
    "sftp = ssh.open_sftp()\n",
    "\n",
    "# List of files to download\n",
    "files = ['/etc/passwd', 'auth.log','ps-aux-results.txt']\n",
    "\n",
    "# the directory to download the files to\n",
    "downloadDir = \"remote_files\"\n",
    "\n",
    "# Download the files now\n",
    "downloadDir(files,downloadDir)\n"
   ],
   "metadata": {
    "collapsed": false,
    "pycharm": {
     "name": "#%%\n"
    }
   }
  },
  {
   "cell_type": "code",
   "execution_count": 69,
   "outputs": [],
   "source": [
    "# close the ssh session\n",
    "ssh.close()"
   ],
   "metadata": {
    "collapsed": false,
    "pycharm": {
     "name": "#%%\n"
    }
   }
  },
  {
   "cell_type": "markdown",
   "source": [
    "## Task 5: Questions\n",
    "\n",
    "**What is the process name?**\n",
    "\n",
    "\n",
    "\n",
    "**Which user is running the process?**\n",
    "\n",
    "\n",
    "**Has the user logged in before via SSH?**\n",
    "    User `p.dalton` logged in with ssh before.\n",
    "\n",
    "**When did the user login?**\n",
    "    The user logged in first on Feb 27 at 04:44:14\n",
    "\n",
    "**How long was the login session?**\n",
    "    The user was logged in for 10 seconds, was disconnected, before logging back in again.\n",
    "\n",
    "**What is located in the unauthorized user’s home directory?**\n",
    "\n",
    "\n",
    "Download any suspicious files."
   ],
   "metadata": {
    "collapsed": false,
    "pycharm": {
     "name": "#%% md\n"
    }
   }
  },
  {
   "cell_type": "code",
   "execution_count": null,
   "outputs": [],
   "source": [],
   "metadata": {
    "collapsed": false,
    "pycharm": {
     "name": "#%%\n"
    }
   }
  }
 ],
 "metadata": {
  "kernelspec": {
   "display_name": "Python 3",
   "language": "python",
   "name": "python3"
  },
  "language_info": {
   "codemirror_mode": {
    "name": "ipython",
    "version": 2
   },
   "file_extension": ".py",
   "mimetype": "text/x-python",
   "name": "python",
   "nbconvert_exporter": "python",
   "pygments_lexer": "ipython2",
   "version": "2.7.6"
  }
 },
 "nbformat": 4,
 "nbformat_minor": 0
}