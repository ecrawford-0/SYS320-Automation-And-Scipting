{
 "cells": [
  {
   "cell_type": "markdown",
   "source": [
    "## Setup the ssh connection to the remote server"
   ],
   "metadata": {
    "collapsed": false
   }
  },
  {
   "cell_type": "code",
   "execution_count": 38,
   "metadata": {
    "collapsed": true
   },
   "outputs": [],
   "source": [
    "# import the modules\n",
    "import paramiko\n",
    "from getpass import getpass\n",
    "import os\n",
    "\n",
    "\n",
    "# Check to see if result text files exists\n",
    "rootdir = 'results'\n",
    "fList = []\n",
    "# Crawl through the provided directory\n",
    "for root, subfolders, filenames in os.walk(rootdir):\n",
    "    for f in filenames:\n",
    "        fileList = root + \"/\" + f\n",
    "        fList.append(fileList)\n",
    "\n",
    "# Check to see if ssh_results file exists\n",
    "for eachFile in fList:\n",
    "    if os.path.exists(eachFile):\n",
    "        # If so ask user to delete file\n",
    "        user_input = input(\"The file: \"+ eachFile + \" exists do you want to delete the file?(Y/N)\")\n",
    "\n",
    "        # If yes delete the file\n",
    "        if user_input == \"Y\":\n",
    "            os.remove(eachFile)\n",
    "\n",
    "\n",
    "# create the password prompt\n",
    "thePass = getpass(prompt=\"Please enter your SSH password\")\n",
    "\n",
    "# Host information\n",
    "host = \"192.168.6.71\"\n",
    "port = 2222\n",
    "username = \"emily.crawford\"\n",
    "password = thePass\n",
    "\n",
    "# try connecting via ssh using paramiko\n",
    "try :\n",
    "    ssh = paramiko.SSHClient()\n",
    "    ssh.set_missing_host_key_policy(paramiko.AutoAddPolicy())\n",
    "    ssh.connect(host,port,username,password)\n",
    "# if fails from authentication error print that it failed due to authentication failure\n",
    "except paramiko.AuthenticationException:\n",
    "    print (\"Authentication failed\")"
   ]
  },
  {
   "cell_type": "markdown",
   "source": [
    "## This is a function for running a list of commands and then saving them to a designated output file If the sudo command is used then the password will need to be provided.\n"
   ],
   "metadata": {
    "collapsed": false
   }
  },
  {
   "cell_type": "code",
   "execution_count": 39,
   "outputs": [],
   "source": [
    "def runListOfCommands(commandsLists,password,outputFile):\n",
    "\n",
    "    for eachCMD in commandsLists:\n",
    "\n",
    "        # Get the output from the command\n",
    "        stdin, stdout, stderr = ssh.exec_command(eachCMD)\n",
    "\n",
    "        # input password for running sudo command\n",
    "        stdin.write(password + \"\\n\")\n",
    "\n",
    "        # Get results from stout\n",
    "        lines = stdout.readlines()\n",
    "\n",
    "        # Convert the list to a string\n",
    "        output = ''.join(lines)\n",
    "\n",
    "        # Header output\n",
    "        sepHeader = '' + '### BEGIN ' + eachCMD + ' ###\\n\\n'\n",
    "\n",
    "        # Footer\n",
    "        sepFooter = '' + '### END ' + eachCMD  + ' ###\\n\\n'\n",
    "\n",
    "        # Concatenates the header, command, footer\n",
    "        cmd_output = sepHeader + output + sepFooter\n",
    "\n",
    "        # save the cmd_output to a file\n",
    "        with open(outputFile, 'a') as f:\n",
    "            f.write(cmd_output)\n",
    "        # print the results out to the console as well\n",
    "        print(cmd_output)"
   ],
   "metadata": {
    "collapsed": false,
    "pycharm": {
     "name": "#%%\n"
    }
   }
  },
  {
   "cell_type": "markdown",
   "source": [
    "## This function is for downloading remote files to the local system"
   ],
   "metadata": {
    "collapsed": false,
    "pycharm": {
     "name": "#%% md\n"
    }
   }
  },
  {
   "cell_type": "code",
   "execution_count": 40,
   "outputs": [],
   "source": [
    "def downloadFiles (files,download_dir):\n",
    "    # Loop through the files and download them\n",
    "\n",
    "    for eachFile in files:\n",
    "\n",
    "        # Create a list from the filename\n",
    "        x = eachFile.split(\"/\")\n",
    "\n",
    "        # -1 is used to pluck the last element in a list.\n",
    "        filename = x[-1]\n",
    "\n",
    "        # Local path to store files\n",
    "        local_path = str(download_dir) +  \"/\" +str(filename)\n",
    "\n",
    "        # get the file\n",
    "        sftp.get(eachFile,local_path)\n"
   ],
   "metadata": {
    "collapsed": false,
    "pycharm": {
     "name": "#%%\n"
    }
   }
  },
  {
   "cell_type": "markdown",
   "source": [
    "## For task 2: upload the Kraken binary and run it against /usr/bin/, /usr/sbin, /usr/local/bin, and /usr/local/sbin"
   ],
   "metadata": {
    "collapsed": false,
    "pycharm": {
     "name": "#%% md\n"
    }
   }
  },
  {
   "cell_type": "code",
   "execution_count": 41,
   "outputs": [
    {
     "name": "stdout",
     "output_type": "stream",
     "text": [
      "### BEGIN sudo -S chmod +x kraken ###\n",
      "\n",
      "### END sudo -S chmod +x kraken ###\n",
      "\n",
      "\n",
      "### BEGIN sudo -S /home/emily.crawford/kraken --folder /usr/bin --folder  --folder /usr/sbin/   --folder /usr/local/bin  --folder /sbin  --folder /usr/local/sbin  --folder /bin ###\n",
      "\n",
      "\u001B[36mINFO\u001B[0m[0000] Looking for configuration file with name config.yaml \n",
      "\u001B[36mINFO\u001B[0m[0000] No configuration file found, generating a default one... \n",
      "\u001B[36mINFO\u001B[0m[0000] Loading Yara rules...                        \n",
      "\u001B[36mINFO\u001B[0m[0000] Scanning running processes...                \n",
      "\u001B[33mWARN\u001B[0m[0004] DETECTION! Malicious process detected as foundGoBinary  \u001B[33mpid\u001B[0m=3138 \u001B[33mprocess\u001B[0m=ls\n",
      "\u001B[33mWARN\u001B[0m[0005] DETECTION! Malicious process detected as foundGoBinary  \u001B[33mpid\u001B[0m=25680 \u001B[33mprocess\u001B[0m=snapd\n",
      "\u001B[36mINFO\u001B[0m[0017] Scanning autoruns...                         \n",
      "\u001B[33mWARN\u001B[0m[0017] DETECTION! Malicious autorun detected as foundGoBinary  \u001B[33mimage_path\u001B[0m=/usr/bin/snap \u001B[33mtype\u001B[0m=systemd\n",
      "\u001B[33mWARN\u001B[0m[0018] DETECTION! Malicious autorun detected as foundGoBinary  \u001B[33mimage_path\u001B[0m=/usr/bin/snap \u001B[33mtype\u001B[0m=systemd\n",
      "\u001B[36mINFO\u001B[0m[0018] Scanning the filesystem (this can take several minutes)... \n",
      "\u001B[31mERRO\u001B[0m[0018] Some malicious artifacts have been detected on this system: \n",
      "\u001B[31mERRO\u001B[0m[0018] Found detection for foundGoBinary            \n",
      "\u001B[31mERRO\u001B[0m[0018] Found detection for foundGoBinary            \n",
      "\u001B[31mERRO\u001B[0m[0018] Found detection for foundGoBinary            \n",
      "\u001B[31mERRO\u001B[0m[0018] Found detection for foundGoBinary            \n",
      "### END sudo -S /home/emily.crawford/kraken --folder /usr/bin --folder  --folder /usr/sbin/   --folder /usr/local/bin  --folder /sbin  --folder /usr/local/sbin  --folder /bin ###\n",
      "\n",
      "\n"
     ]
    }
   ],
   "source": [
    "# start SFTP session\n",
    "sftp = ssh.open_sftp()\n",
    "\n",
    "# the local file on the system to upload\n",
    "localFile = \"kraken\"\n",
    "# the remote path to upload the file to\n",
    "remotePath = \"/home/emily.crawford/kraken\"\n",
    "\n",
    "# push the file to the linux server in the correct path\n",
    "sftp.put(localFile, remotePath)\n",
    "\n",
    "# Run a list of commands, these will give the kraken binary executable permissions\n",
    "command = ['sudo -S chmod +x kraken','sudo -S /home/emily.crawford/kraken --folder /usr/bin --folder  --folder /usr/sbin/   --folder /usr/local/bin  --folder /sbin  --folder /usr/local/sbin  --folder /bin']\n",
    "\n",
    "# file to save the output in\n",
    "output = \"results/kraken-results.txt\"\n",
    "\n",
    "# Run all the commands, and save the result to the directory results as well as printing them out\n",
    "runListOfCommands(command,thePass,output)"
   ],
   "metadata": {
    "collapsed": false,
    "pycharm": {
     "name": "#%%\n"
    }
   }
  },
  {
   "cell_type": "markdown",
   "source": [
    "## Task 3 look for any malicious process IDs that were running as found by kraken"
   ],
   "metadata": {
    "collapsed": false
   }
  },
  {
   "cell_type": "code",
   "execution_count": 42,
   "outputs": [
    {
     "name": "stdout",
     "output_type": "stream",
     "text": [
      "### BEGIN sudo -S lsof -p3138 ###\n",
      "\n",
      "COMMAND  PID     USER   FD      TYPE DEVICE SIZE/OFF   NODE NAME\n",
      "ls      3138 p.dalton  cwd       DIR    8,1     4096 258130 /home/p.dalton/test-lk\n",
      "ls      3138 p.dalton  rtd       DIR    8,1     4096      2 /\n",
      "ls      3138 p.dalton  txt       REG    8,1  6597697 258133 /usr/local/bin/ls\n",
      "ls      3138 p.dalton  DEL       REG    8,1            3453 /usr/lib/x86_64-linux-gnu/libc-2.31.so\n",
      "ls      3138 p.dalton  DEL       REG    8,1            3466 /usr/lib/x86_64-linux-gnu/libpthread-2.31.so\n",
      "ls      3138 p.dalton  DEL       REG    8,1            3449 /usr/lib/x86_64-linux-gnu/ld-2.31.so\n",
      "ls      3138 p.dalton    0r      CHR    1,3      0t0      6 /dev/null\n",
      "ls      3138 p.dalton    1w      REG    8,1       85 258135 /home/p.dalton/test-lk/.d.log\n",
      "ls      3138 p.dalton    2w      REG    8,1       85 258135 /home/p.dalton/test-lk/.d.log\n",
      "ls      3138 p.dalton    3r      CHR    1,3      0t0      6 /dev/null\n",
      "ls      3138 p.dalton    4u      REG    8,1        4 258134 /home/p.dalton/test-lk/d.pid\n",
      "ls      3138 p.dalton    5u     IPv6  33422      0t0    TCP *:http-alt (LISTEN)\n",
      "ls      3138 p.dalton    7u  a_inode   0,14        0  10376 [eventpoll]\n",
      "ls      3138 p.dalton    8r     FIFO   0,13      0t0  33424 pipe\n",
      "ls      3138 p.dalton    9w     FIFO   0,13      0t0  33424 pipe\n",
      "### END sudo -S lsof -p3138 ###\n",
      "\n",
      "\n"
     ]
    }
   ],
   "source": [
    "# suspicious pid to investigate\n",
    "pid = 3138\n",
    "\n",
    "# command to run\n",
    "command = [\"sudo -S lsof -p\" + str(pid)]\n",
    "\n",
    "# file to save the output in\n",
    "output = \"results/lsof-pid-results.txt\"\n",
    "\n",
    "runListOfCommands(command,thePass,output)"
   ],
   "metadata": {
    "collapsed": false,
    "pycharm": {
     "name": "#%%\n"
    }
   }
  },
  {
   "cell_type": "markdown",
   "source": [
    "## Task 4: Download any suspicious files, binaries, or log files"
   ],
   "metadata": {
    "collapsed": false
   }
  },
  {
   "cell_type": "code",
   "execution_count": 43,
   "outputs": [],
   "source": [
    "# start SFTP session\n",
    "sftp = ssh.open_sftp()\n",
    "\n",
    "# List of files to download\n",
    "files = ['/home/p.dalton/test-lk/.d.log', '/home/p.dalton/test-lk/d.pid']\n",
    "\n",
    "# directory to download the remote files to\n",
    "downloadDir = \"remote_files\"\n",
    "\n",
    "# download the files\n",
    "downloadFiles(files,downloadDir)"
   ],
   "metadata": {
    "collapsed": false,
    "pycharm": {
     "name": "#%%\n"
    }
   }
  },
  {
   "cell_type": "markdown",
   "source": [
    "## Task 5: Check running processes, /etc/passwd, and /var/log/auth.log"
   ],
   "metadata": {
    "collapsed": false,
    "pycharm": {
     "name": "#%% md\n"
    }
   }
  },
  {
   "cell_type": "code",
   "execution_count": 44,
   "outputs": [
    {
     "name": "stdout",
     "output_type": "stream",
     "text": [
      "### BEGIN sudo -S ps aux ###\n",
      "\n",
      "USER         PID %CPU %MEM    VSZ   RSS TTY      STAT START   TIME COMMAND\n",
      "root           1  0.0  0.6 103332 103320 ?       Ss   Feb26   0:27 /sbin/init\n",
      "root           2  0.0  0.0      0     0 ?        S    Feb26   0:00 [kthreadd]\n",
      "root           3  0.0  0.0      0     0 ?        I<   Feb26   0:00 [rcu_gp]\n",
      "root           4  0.0  0.0      0     0 ?        I<   Feb26   0:00 [rcu_par_gp]\n",
      "root           6  0.0  0.0      0     0 ?        I<   Feb26   0:00 [kworker/0:0H-kblockd]\n",
      "root           8  0.0  0.0      0     0 ?        I<   Feb26   0:00 [mm_percpu_wq]\n",
      "root           9  0.0  0.0      0     0 ?        S    Feb26   0:01 [ksoftirqd/0]\n",
      "root          10  0.0  0.0      0     0 ?        I    Feb26   0:23 [rcu_sched]\n",
      "root          11  0.0  0.0      0     0 ?        S    Feb26   0:05 [migration/0]\n",
      "root          12  0.0  0.0      0     0 ?        S    Feb26   0:00 [idle_inject/0]\n",
      "root          14  0.0  0.0      0     0 ?        S    Feb26   0:00 [cpuhp/0]\n",
      "root          15  0.0  0.0      0     0 ?        S    Feb26   0:00 [kdevtmpfs]\n",
      "root          16  0.0  0.0      0     0 ?        I<   Feb26   0:00 [netns]\n",
      "root          17  0.0  0.0      0     0 ?        S    Feb26   0:00 [rcu_tasks_kthre]\n",
      "root          18  0.0  0.0      0     0 ?        S    Feb26   0:00 [kauditd]\n",
      "root          19  0.0  0.0      0     0 ?        S    Feb26   0:00 [khungtaskd]\n",
      "root          20  0.0  0.0      0     0 ?        S    Feb26   0:00 [oom_reaper]\n",
      "root          21  0.0  0.0      0     0 ?        I<   Feb26   0:00 [writeback]\n",
      "root          22  0.0  0.0      0     0 ?        S    Feb26   0:00 [kcompactd0]\n",
      "root          23  0.0  0.0      0     0 ?        SN   Feb26   0:00 [ksmd]\n",
      "root          24  0.0  0.0      0     0 ?        SN   Feb26   0:00 [khugepaged]\n",
      "root          70  0.0  0.0      0     0 ?        I<   Feb26   0:00 [kintegrityd]\n",
      "root          71  0.0  0.0      0     0 ?        I<   Feb26   0:00 [kblockd]\n",
      "root          72  0.0  0.0      0     0 ?        I<   Feb26   0:00 [blkcg_punt_bio]\n",
      "root          73  0.0  0.0      0     0 ?        I<   Feb26   0:00 [tpm_dev_wq]\n",
      "root          74  0.0  0.0      0     0 ?        I<   Feb26   0:00 [ata_sff]\n",
      "root          75  0.0  0.0      0     0 ?        I<   Feb26   0:00 [md]\n",
      "root          76  0.0  0.0      0     0 ?        I<   Feb26   0:00 [edac-poller]\n",
      "root          77  0.0  0.0      0     0 ?        I<   Feb26   0:00 [devfreq_wq]\n",
      "root          78  0.0  0.0      0     0 ?        S    Feb26   0:00 [watchdogd]\n",
      "root          81  0.0  0.0      0     0 ?        S    Feb26   0:00 [kswapd0]\n",
      "root          82  0.0  0.0      0     0 ?        S    Feb26   0:00 [ecryptfs-kthrea]\n",
      "root          84  0.0  0.0      0     0 ?        I<   Feb26   0:00 [kthrotld]\n",
      "root          85  0.0  0.0      0     0 ?        I<   Feb26   0:00 [acpi_thermal_pm]\n",
      "root          86  0.0  0.0      0     0 ?        S    Feb26   0:00 [scsi_eh_0]\n",
      "root          87  0.0  0.0      0     0 ?        I<   Feb26   0:00 [scsi_tmf_0]\n",
      "root          88  0.0  0.0      0     0 ?        S    Feb26   0:00 [scsi_eh_1]\n",
      "root          89  0.0  0.0      0     0 ?        I<   Feb26   0:00 [scsi_tmf_1]\n",
      "root          91  0.0  0.0      0     0 ?        I<   Feb26   0:00 [vfio-irqfd-clea]\n",
      "root          92  0.0  0.0      0     0 ?        I<   Feb26   0:00 [ipv6_addrconf]\n",
      "root         102  0.0  0.0      0     0 ?        I<   Feb26   0:00 [kstrp]\n",
      "root         105  0.0  0.0      0     0 ?        I<   Feb26   0:00 [kworker/u3:0]\n",
      "root         118  0.0  0.0      0     0 ?        I<   Feb26   0:00 [charger_manager]\n",
      "root         160  0.0  0.0      0     0 ?        I<   Feb26   0:04 [kworker/0:1H-kblockd]\n",
      "root         161  0.0  0.0      0     0 ?        S    Feb26   0:00 [scsi_eh_2]\n",
      "root         162  0.0  0.0      0     0 ?        I<   Feb26   0:00 [scsi_tmf_2]\n",
      "root         165  0.0  0.0      0     0 ?        I<   Feb26   0:00 [cryptd]\n",
      "root         232  0.0  0.0      0     0 ?        I<   Feb26   0:00 [raid5wq]\n",
      "root         272  0.0  0.0      0     0 ?        S    Feb26   0:02 [jbd2/sda1-8]\n",
      "root         273  0.0  0.0      0     0 ?        I<   Feb26   0:00 [ext4-rsv-conver]\n",
      "root         345  0.0  0.9 150100 150088 ?       S<s  Feb26   0:04 /lib/systemd/systemd-journald\n",
      "root         377  0.0  0.1  18976 18964 ?        Ss   Feb26   0:04 /lib/systemd/systemd-udevd\n",
      "root         476  0.0  0.0      0     0 ?        I<   Feb26   0:00 [kaluad]\n",
      "root         477  0.0  0.0      0     0 ?        I<   Feb26   0:00 [kmpath_rdacd]\n",
      "root         478  0.0  0.0      0     0 ?        I<   Feb26   0:00 [kmpathd]\n",
      "root         479  0.0  0.0      0     0 ?        I<   Feb26   0:00 [kmpath_handlerd]\n",
      "root         480  0.0  1.7 280200 279648 ?       SLsl Feb26   0:50 /sbin/multipathd -d -s\n",
      "root         491  0.0  0.0      0     0 ?        S<   Feb26   0:00 [loop0]\n",
      "root         494  0.0  0.0      0     0 ?        S<   Feb26   0:00 [loop2]\n",
      "systemd+     515  0.0  0.5  90232 90144 ?        Ssl  Feb26   0:01 /lib/systemd/systemd-timesyncd\n",
      "systemd+     595  0.0  0.1  23900 23780 ?        Ss   Feb26   0:01 /lib/systemd/systemd-resolved\n",
      "root         706  0.0  1.4 241168 240992 ?       Ssl  Feb26   0:14 /usr/lib/accountsservice/accounts-daemon\n",
      "message+     714  0.0  0.0   8012  8000 ?        Ss   Feb26   0:03 /usr/bin/dbus-daemon --system --address=systemd: --nofork --nopidfile --systemd-activation --syslog-only\n",
      "root         720  0.0  0.1  29196 29156 ?        Ss   Feb26   0:00 /usr/bin/python3 /usr/bin/networkd-dispatcher --run-startup-triggers\n",
      "syslog       723  0.0  1.3 224348 219996 ?       Ssl  Feb26   0:00 /usr/sbin/rsyslogd -n -iNONE\n",
      "root         725  0.0  0.1  18056 18044 ?        Ss   Feb26   0:03 /lib/systemd/systemd-logind\n",
      "root         727  0.0  2.3 394920 392824 ?       Ssl  Feb26   0:01 /usr/lib/udisks2/udisksd\n",
      "daemon       728  0.0  0.0   3792  3772 ?        Ss   Feb26   0:00 /usr/sbin/atd -f\n",
      "root         771  0.0  0.0   7352  7296 ttyS0    Ss+  Feb26   0:00 /sbin/agetty -o -p -- \\u --keep-baud 115200,38400,9600 ttyS0 vt220\n",
      "root         775  0.0  0.0   5828  5768 tty1     Ss+  Feb26   0:00 /sbin/agetty -o -p -- \\u --noclear tty1 linux\n",
      "root         789  0.0  0.6 108108 107952 ?       Ssl  Feb26   0:00 /usr/bin/python3 /usr/share/unattended-upgrades/unattended-upgrade-shutdown --wait-for-signal\n",
      "p.dalton    3025  0.0  0.1  18408 18352 ?        Ss   Feb26   0:00 /lib/systemd/systemd --user\n",
      "p.dalton    3027  0.0  0.6 104268 104256 ?       S    Feb26   0:00 (sd-pam)\n",
      "p.dalton    3138  0.0  0.0 1003532 4892 ?        Ssl  Feb26   0:01 [go-daemon sample]\n",
      "root        3363  0.0  0.0      0     0 ?        S<   Feb26   0:00 [spl_system_task]\n",
      "root        3364  0.0  0.0      0     0 ?        S<   Feb26   0:00 [spl_delay_taskq]\n",
      "root        3365  0.0  0.0      0     0 ?        S<   Feb26   0:00 [spl_dynamic_tas]\n",
      "root        3366  0.0  0.0      0     0 ?        S<   Feb26   0:00 [spl_kmem_cache]\n",
      "root        3395  0.0  0.0      0     0 ?        S<   Feb26   0:00 [zvol]\n",
      "root        3396  0.0  0.0      0     0 ?        S    Feb26   0:00 [arc_prune]\n",
      "root        3397  0.0  0.0      0     0 ?        SN   Feb26   0:00 [zthr_procedure]\n",
      "root        3398  0.0  0.0      0     0 ?        SN   Feb26   0:16 [zthr_procedure]\n",
      "root        3399  0.0  0.0      0     0 ?        S    Feb26   0:00 [dbu_evict]\n",
      "root        3400  0.0  0.0      0     0 ?        SN   Feb26   0:15 [dbuf_evict]\n",
      "root        3401  0.0  0.0      0     0 ?        SN   Feb26   0:00 [z_vdev_file]\n",
      "root        3402  0.0  0.0      0     0 ?        S    Feb26   0:12 [l2arc_feed]\n",
      "ubuntu     15253  0.0  0.1  18412 18368 ?        Ss   Feb27   0:00 /lib/systemd/systemd --user\n",
      "ubuntu     15261  0.0  0.6 104268 104256 ?       S    Feb27   0:00 (sd-pam)\n",
      "root       15949  0.0  0.0      0     0 ?        S<   Feb27   0:00 [loop3]\n",
      "root       16031  0.0  0.0      0     0 ?        S<   Feb27   0:00 [loop4]\n",
      "root       16271  0.0  0.0      0     0 ?        S<   Feb27   0:00 [loop5]\n",
      "root       23279  0.0  0.0      0     0 ?        I<   Feb28   0:00 [xfsalloc]\n",
      "root       23280  0.0  0.0      0     0 ?        I<   Feb28   0:00 [xfs_mru_cache]\n",
      "uuidd      24811  0.0  0.0   9748  9664 ?        Ss   Feb28   0:00 /usr/sbin/uuidd --socket-activation\n",
      "root       25680  0.0  0.2 742332 47720 ?        Ssl  Feb28   0:39 /usr/lib/snapd/snapd\n",
      "root       32490  0.0  0.0  13796 13772 ?        Ss   Feb28   0:00 sshd: ubuntu [priv]\n",
      "ubuntu     32563  0.0  0.0  13932 13920 ?        S    Feb28   0:00 sshd: ubuntu@pts/0\n",
      "ubuntu     32564  0.0  0.0   9996  9984 pts/0    Ss   Feb28   0:00 bash\n",
      "root       32597  0.0  0.0  11016 10972 pts/0    S    Feb28   0:00 sudo su -\n",
      "root       32598  0.0  0.0  10108 10088 pts/0    S    Feb28   0:00 su -\n",
      "root       32599  0.0  0.0  10156 10144 pts/0    S+   Feb28   0:00 -bash\n",
      "root       34879  0.0  1.4 238704 238556 ?       Ssl  Mar02   0:00 /usr/lib/policykit-1/polkitd --no-debug\n",
      "systemd+   36633  0.0  0.1  26576 26424 ?        Ss   Mar02   0:02 /lib/systemd/systemd-networkd\n",
      "root       38803  0.0  0.2  40876 40788 ?        Ss   Mar02   0:00 /usr/sbin/oddjobd -n -p /var/run/oddjobd.pid -t 300\n",
      "root       40152  0.0  2.0 373216 343416 ?       Sl   Mar02   0:00 /opt/pbis/sbin/lwsmd --start-as-daemon\n",
      "root       40160  0.0  3.4 595008 558028 ?       Sl   Mar02   0:37 lw-container lwreg\n",
      "root       40188  0.0  1.7 328824 294904 ?       Sl   Mar02   0:00 lw-container eventlog\n",
      "root       40200  0.0  2.5 448196 417364 ?       Sl   Mar02   0:04 lw-container netlogon\n",
      "root       40210  0.0  3.4 598840 557956 ?       Sl   Mar02   0:00 lw-container lwio\n",
      "root       40223  0.0  4.7 836432 781816 ?       Sl   Mar02   1:00 lw-container lsass\n",
      "root       40237  0.0  2.1 395216 360272 ?       Sl   Mar02   0:00 lw-container reapsysl\n",
      "root       40406  0.0  0.0   8536  8524 ?        Ss   Mar02   0:00 /usr/sbin/cron -f\n",
      "root       40420  0.0  0.0  12176 12164 ?        Ss   Mar02   0:00 sshd: /usr/sbin/sshd -D [listener] 1 of 10-100 startups\n",
      "root       66992  0.0  0.0      0     0 ?        I    Mar04   0:43 [kworker/0:2-events]\n",
      "root       75099  0.0  0.0      0     0 ?        I    13:06   0:00 [kworker/0:0-cgroup_destroy]\n",
      "root       76439  0.0  0.0  24928 15976 ?        Ss   15:16   0:00 sshd: noah.stiles [priv]\n",
      "noah.st+   76517  0.0  0.0  25176 16248 ?        S    15:16   0:00 sshd: noah.stiles@notty\n",
      "noah.st+   76518  0.0  0.0  15844  7904 ?        Ss   15:16   0:00 /usr/lib/openssh/sftp-server\n",
      "root       76525  0.0  0.0  24924 15976 ?        Ss   15:18   0:00 sshd: noah.stiles [priv]\n",
      "noah.st+   76606  0.0  0.0  25172 16244 ?        S    15:18   0:00 sshd: noah.stiles@notty\n",
      "noah.st+   76607  0.0  0.0  15844  7904 ?        Ss   15:18   0:00 /usr/lib/openssh/sftp-server\n",
      "root       76608  0.0  0.0  24928 15980 ?        Ss   15:18   0:00 sshd: noah.stiles [priv]\n",
      "noah.st+   76681  0.0  0.0  25176 16248 ?        S    15:18   0:00 sshd: noah.stiles@notty\n",
      "noah.st+   76686  0.0  0.0  15844  7908 ?        Ss   15:18   0:00 /usr/lib/openssh/sftp-server\n",
      "root       76687  0.0  0.0  24928 15980 ?        Ss   15:19   0:00 sshd: noah.stiles [priv]\n",
      "noah.st+   76763  0.0  0.0  25176 16248 ?        S    15:19   0:00 sshd: noah.stiles@notty\n",
      "noah.st+   76768  0.0  0.0  15844  7904 ?        Ss   15:19   0:00 /usr/lib/openssh/sftp-server\n",
      "root       76773  0.0  0.0  24928 15976 ?        Ss   15:20   0:00 sshd: noah.stiles [priv]\n",
      "noah.st+   76854  0.0  0.0  25176 16248 ?        S    15:20   0:00 sshd: noah.stiles@notty\n",
      "noah.st+   76859  0.0  0.0  15844  7908 ?        Ss   15:21   0:00 /usr/lib/openssh/sftp-server\n",
      "root       77224  0.0  0.0  24924 15972 ?        Ss   15:31   0:00 sshd: noah.stiles [priv]\n",
      "noah.st+   77302  0.0  0.0  25172 16244 ?        S    15:31   0:00 sshd: noah.stiles@notty\n",
      "root       77502  0.0  0.0  24924 15976 ?        Ss   15:43   0:00 sshd: noah.stiles [priv]\n",
      "noah.st+   77603  0.0  0.0  25172 16244 ?        S    15:43   0:00 sshd: noah.stiles@notty\n",
      "noah.st+   77604  0.0  0.0  15844  7904 ?        Ss   15:43   0:00 /usr/lib/openssh/sftp-server\n",
      "root       77892  0.0  0.0  24948 15996 ?        Ss   15:53   0:00 sshd: emily.crawford [priv]\n",
      "emily.c+   77971  0.0  0.1  25584 16656 ?        S    15:53   0:00 sshd: emily.crawford@notty\n",
      "root       78004  0.0  0.0  24924 15976 ?        Ss   15:55   0:00 sshd: noah.stiles [priv]\n",
      "noah.st+   78082  0.0  0.0  25172 16244 ?        S    15:55   0:00 sshd: noah.stiles@notty\n",
      "root       78135  0.0  0.0  24924 15976 ?        Ss   15:58   0:00 sshd: noah.stiles [priv]\n",
      "noah.st+   78211  0.0  0.0  25172 16244 ?        S    15:58   0:00 sshd: noah.stiles@notty\n",
      "root       78230  0.0  0.0  24928 15976 ?        Ss   16:00   0:00 sshd: noah.stiles [priv]\n",
      "noah.st+   78308  0.0  0.0  25176 16248 ?        S    16:00   0:00 sshd: noah.stiles@notty\n",
      "root       78398  0.0  0.0  24928 15976 ?        Ss   16:02   0:00 sshd: noah.stiles [priv]\n",
      "noah.st+   78474  0.0  0.0  25176 16248 ?        S    16:02   0:00 sshd: noah.stiles@notty\n",
      "root       78583  0.0  0.0      0     0 ?        I    16:03   0:00 [kworker/u2:1-events_freezable_power_]\n",
      "root       78964  0.0  0.0      0     0 ?        I    16:14   0:00 [kworker/u2:0-events_power_efficient]\n",
      "emily.c+   80796  0.0  0.0  15844  7784 ?        Ss   16:43   0:00 /usr/lib/openssh/sftp-server\n",
      "root       81077  0.0  0.0      0     0 ?        I    17:06   0:00 [kworker/u2:2-events_power_efficient]\n",
      "root       81221  0.0  0.0  24948 15992 ?        Ss   17:17   0:00 sshd: emily.crawford [priv]\n",
      "emily.c+   81300  0.3  0.0  24948 16020 ?        S    17:17   0:00 sshd: emily.crawford@notty\n",
      "root       81301  0.0  0.0  24424 15456 ?        Ss   17:17   0:00 sshd: christopher.mchugh [priv]\n",
      "sshd       81302  0.0  0.0  12172 12156 ?        S    17:17   0:00 sshd: christopher.mchugh [net]\n",
      "root       81313  0.0  0.0  24948 10656 ?        Ss   17:18   0:00 sshd: christopher.mchugh [priv]\n",
      "christo+   81386  0.0  0.0  24948  6996 ?        S    17:18   0:00 sshd: christopher.mchugh\n",
      "emily.c+   81391  0.0  0.0  15844  6116 ?        Ss   17:19   0:00 /usr/lib/openssh/sftp-server\n",
      "root       81392  0.0  0.0  22220  6596 ?        Ss   17:19   0:00 sudo -S ps aux\n",
      "root       81393  0.0  0.0  20672  4964 ?        R    17:19   0:00 ps aux\n",
      "### END sudo -S ps aux ###\n",
      "\n",
      "\n",
      "### BEGIN sudo -S cp /var/log/auth.log . ###\n",
      "\n",
      "### END sudo -S cp /var/log/auth.log . ###\n",
      "\n",
      "\n",
      "### BEGIN sudo -S chmod +r auth.log ###\n",
      "\n",
      "### END sudo -S chmod +r auth.log ###\n",
      "\n",
      "\n",
      "### BEGIN dir /home/p.dalton/ ###\n",
      "\n",
      "aqwerpuqwerj  test-lk\n",
      "### END dir /home/p.dalton/ ###\n",
      "\n",
      "\n"
     ]
    }
   ],
   "source": [
    "# start SFTP session\n",
    "sftp = ssh.open_sftp()\n",
    "\n",
    "# Check running processes, then check what was in the suspicious user's directory, and move the file\n",
    "command = ['sudo -S ps aux','sudo -S cp /var/log/auth.log .', 'sudo -S chmod +r auth.log', 'dir /home/p.dalton/']\n",
    "\n",
    "# output to save the files\n",
    "output = \"results/check_processes_and_etc_passwd_and_var_log_auth.txt\"\n",
    "\n",
    "# run the commands and print the output\n",
    "runListOfCommands(command,thePass,output)\n",
    "\n",
    "# List of files to download\n",
    "files = ['/etc/passwd', 'auth.log','ps-aux-results.txt', '/home/p.dalton/aqwerpuqwerj']\n",
    "\n",
    "# directory to download the remote files to\n",
    "downloadDir = \"remote_files\"\n",
    "\n",
    "# download the files\n",
    "downloadFiles(files,downloadDir)\n"
   ],
   "metadata": {
    "collapsed": false,
    "pycharm": {
     "name": "#%%\n"
    }
   }
  },
  {
   "cell_type": "code",
   "execution_count": 45,
   "outputs": [],
   "source": [
    "# close the ssh session\n",
    "ssh.close()"
   ],
   "metadata": {
    "collapsed": false,
    "pycharm": {
     "name": "#%%\n"
    }
   }
  },
  {
   "cell_type": "markdown",
   "source": [
    "## Task 5: Questions\n",
    "\n",
    "**What is the process name?**\n",
    "It seemed the process was called `go-daemon sample`, as this was found when running `ps aux`.\n",
    "\n",
    "**Which user is running the process?**\n",
    "The user `p.dalton` was running this process.\n",
    "\n",
    "**Has the user logged in before via SSH?**\n",
    "User `p.dalton` logged in with ssh before.\n",
    "\n",
    "**When did the user login?**\n",
    "The user logged in first on Feb 27 at 04:44:14\n",
    "\n",
    "**How long was the login session?**\n",
    "The user was logged in for 10 seconds, was disconnected, before logging back in again.\n",
    "\n",
    "**What is located in the unauthorized user’s home directory?**\n",
    "\n",
    "There was the file named aqwerpuqwerj and there was the directory called test-lk which contained two files. One of the files in the test-lk was a log file, and the other contained a file which simply had the pid for the\n",
    "\n",
    "Download any suspicious files."
   ],
   "metadata": {
    "collapsed": false,
    "pycharm": {
     "name": "#%% md\n"
    }
   }
  },
  {
   "cell_type": "markdown",
   "source": [
    "## Reflection Questions\n",
    "\n",
    "\n",
    "**Based on what you discovered and the information in the threat report, what is your conclusion about the host you analyzed?**\n",
    "\n",
    "After reviewing the information found on the system as well as the threat report it definitely seems that the threat actor ThugStyle was on the system. The account used was `p.dalton` seems to have been what this threat actor used. as this follows the format being a random letter followed by a dot then a real last name. There was also the executable called `aqwerpuqwerj` in the `p.dalton` user. Then finally for system activity it seems the `ls` process had the malicious executable running which was the reason as to why the ls command wouldn't work, and why kraken detected malicious behavior. This fits the threat actor's behaviour as they will try hide malicious files in well known linux command locations. Then in terms of network activity, this threat actor will use a webserver with binaries written in Go. On the system the user ran the command `go-daemon sample` right before there was lots of activity as root, as well the `p.dalton` user had a TCP listener from `*:http-alt (LISTEN)`\n",
    "\n",
    "**What did you like the most and least about this assignment?**\n",
    "\n",
    "I thought it was pretty cool to do threat hunting looking for any ThugStyle activity. Also I realized I could have python functions in the notebook which I used to reduce how much I was copying and pasting code. I'm not really sure what I liked least I liked threat-hunting, the only thing I could think of was that I was confused why the `ls` command didn't work, but then after running kraken and realizing there was a malicious Go binary located there, and it all made sense.\n",
    "\n",
    "**What additional questions do you have?**\n",
    "I don't really have any other questions for this assignment.\n"
   ],
   "metadata": {
    "collapsed": false,
    "pycharm": {
     "name": "#%% md\n"
    }
   }
  },
  {
   "cell_type": "code",
   "execution_count": null,
   "outputs": [],
   "source": [],
   "metadata": {
    "collapsed": false,
    "pycharm": {
     "name": "#%%\n"
    }
   }
  }
 ],
 "metadata": {
  "kernelspec": {
   "display_name": "Python 3",
   "language": "python",
   "name": "python3"
  },
  "language_info": {
   "codemirror_mode": {
    "name": "ipython",
    "version": 2
   },
   "file_extension": ".py",
   "mimetype": "text/x-python",
   "name": "python",
   "nbconvert_exporter": "python",
   "pygments_lexer": "ipython2",
   "version": "2.7.6"
  }
 },
 "nbformat": 4,
 "nbformat_minor": 0
}